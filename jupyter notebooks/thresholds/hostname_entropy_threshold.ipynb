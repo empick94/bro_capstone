{
 "cells": [
  {
   "cell_type": "markdown",
   "metadata": {},
   "source": [
    "This notebook has been modified to remove sensitive data. It excludes the original dataset, the output of each cell, and some feature engineering based off of domain knowledge. The inputs are still included for the purpose of understanding our machine learning process."
   ]
  },
  {
   "cell_type": "code",
   "execution_count": null,
   "metadata": {},
   "outputs": [],
   "source": [
    "import pandas as pd\n",
    "import math\n",
    "from collections import Counter\n",
    "from matplotlib import pyplot as plt\n",
    "import math"
   ]
  },
  {
   "cell_type": "markdown",
   "metadata": {},
   "source": [
    "Functions to assign the entropy of each row, the length of the hostname, and a \"length bin\" for each hostname. These will be used to determine a statistical threshold for hostname entropy that takes into account the added entropy inherent in a longer name."
   ]
  },
  {
   "cell_type": "code",
   "execution_count": null,
   "metadata": {},
   "outputs": [],
   "source": [
    "def hostname_entropy(row):\n",
    "    s = row['hostname']\n",
    "    try:\n",
    "        p, lns = Counter(s), float(len(s))\n",
    "    except TypeError as e:\n",
    "        s = str(s)\n",
    "        p, lns = Counter(s), float(len(s))\n",
    "\n",
    "    return -sum( count/lns * math.log(count/lns, 2) for count in p.values())"
   ]
  },
  {
   "cell_type": "code",
   "execution_count": null,
   "metadata": {},
   "outputs": [],
   "source": [
    "def hostname_len(row):\n",
    "    try:\n",
    "        return len(row['hostname'])\n",
    "    except TypeError as e:\n",
    "        return len(str(row['hostname']))\n",
    "    "
   ]
  },
  {
   "cell_type": "code",
   "execution_count": null,
   "metadata": {},
   "outputs": [],
   "source": [
    "def hostname_len_bin(row):\n",
    "    l = row.hostname_len \n",
    "#     if l/5 >= 3:\n",
    "#         return \"15 +\"\n",
    "#     else:\n",
    "    beg = math.floor(l/5) * 5\n",
    "    return str(beg) + \" - \" + str(beg + 4)\n"
   ]
  },
  {
   "cell_type": "code",
   "execution_count": null,
   "metadata": {},
   "outputs": [],
   "source": [
    "# df = pd.read_json(r\"C:\\Users\\hanbrolo\\Documents\\2.05-NTLM.json\")\n",
    "df = pd.read_csv(r\"C:\\Users\\hanbrolo\\Documents\\ntlm_2.25_to_3.4.csv\")"
   ]
  },
  {
   "cell_type": "code",
   "execution_count": null,
   "metadata": {},
   "outputs": [],
   "source": [
    "df.dtypes\n",
    "#do appropriate conversions here"
   ]
  },
  {
   "cell_type": "markdown",
   "metadata": {},
   "source": [
    "Consider each hostname only once"
   ]
  },
  {
   "cell_type": "code",
   "execution_count": null,
   "metadata": {},
   "outputs": [],
   "source": [
    "unique_array = df.hostname.unique()\n",
    "df_hostnames = pd.DataFrame(data=unique_array)"
   ]
  },
  {
   "cell_type": "code",
   "execution_count": null,
   "metadata": {},
   "outputs": [],
   "source": [
    "df_hostnames.columns = ['hostname']"
   ]
  },
  {
   "cell_type": "code",
   "execution_count": null,
   "metadata": {},
   "outputs": [],
   "source": [
    "df_hostnames"
   ]
  },
  {
   "cell_type": "markdown",
   "metadata": {},
   "source": [
    "Apply functions to assign hostname entropy and hostname length bin columns"
   ]
  },
  {
   "cell_type": "code",
   "execution_count": null,
   "metadata": {},
   "outputs": [],
   "source": [
    "df_hostnames['hostname_entropy'] = df_hostnames.apply(lambda row: hostname_entropy(row),axis=1)"
   ]
  },
  {
   "cell_type": "code",
   "execution_count": null,
   "metadata": {},
   "outputs": [],
   "source": [
    "df_hostnames['hostname_len'] = df_hostnames.apply(lambda row: hostname_len(row),axis=1)"
   ]
  },
  {
   "cell_type": "code",
   "execution_count": null,
   "metadata": {},
   "outputs": [],
   "source": [
    "df_hostnames['hostname_len_bin'] = df_hostnames.apply(lambda row: hostname_len_bin(row),axis=1)"
   ]
  },
  {
   "cell_type": "code",
   "execution_count": null,
   "metadata": {},
   "outputs": [],
   "source": [
    "df_hostnames"
   ]
  },
  {
   "cell_type": "markdown",
   "metadata": {},
   "source": [
    "Describe and view the distribution of entropy for each bin"
   ]
  },
  {
   "cell_type": "code",
   "execution_count": null,
   "metadata": {},
   "outputs": [],
   "source": [
    "entropy_by_hostname = df.groupby('hostname')['hostname_entropy'].mean()\n",
    "entropy_by_hostname.describe()"
   ]
  },
  {
   "cell_type": "code",
   "execution_count": null,
   "metadata": {},
   "outputs": [],
   "source": [
    "hostname_entropy_threshold = entropy_by_hostname.mean() + entropy_by_hostname.std() * 3\n",
    "hostname_entropy_threshold"
   ]
  },
  {
   "cell_type": "code",
   "execution_count": null,
   "metadata": {},
   "outputs": [],
   "source": [
    "plt.hist(entropy_by_hostname, 20)\n",
    "plt.axvline(x=hostname_entropy_threshold, color='r')\n",
    "plt.show()"
   ]
  },
  {
   "cell_type": "code",
   "execution_count": null,
   "metadata": {},
   "outputs": [],
   "source": [
    "plt.boxplot(entropy_by_hostname)\n",
    "plt.plot()"
   ]
  },
  {
   "cell_type": "code",
   "execution_count": null,
   "metadata": {},
   "outputs": [],
   "source": [
    "df_entropy_by_len = df_hostnames.groupby(['hostname_len_bin'])['hostname_entropy'].describe()"
   ]
  },
  {
   "cell_type": "markdown",
   "metadata": {},
   "source": [
    "Assign a threshold to each length bin based on the 3 standard deviation rule."
   ]
  },
  {
   "cell_type": "code",
   "execution_count": null,
   "metadata": {},
   "outputs": [],
   "source": [
    "df_entropy_by_len['threshold'] = [ i if math.isnan(j) else i + 3*j for i,j in zip(df_entropy_by_len['mean'], df_entropy_by_len['std'])]"
   ]
  },
  {
   "cell_type": "markdown",
   "metadata": {},
   "source": [
    "View the thresholds. These were used as an initial baseline for our hostname entropy Bro script"
   ]
  },
  {
   "cell_type": "code",
   "execution_count": null,
   "metadata": {},
   "outputs": [],
   "source": [
    "df_entropy_by_len"
   ]
  },
  {
   "cell_type": "code",
   "execution_count": null,
   "metadata": {},
   "outputs": [],
   "source": [
    "plt.hist(df.hostname_len)\n",
    "plt.show()"
   ]
  },
  {
   "cell_type": "code",
   "execution_count": null,
   "metadata": {},
   "outputs": [],
   "source": [
    "df.groupby(['hostname_len_bin', 'hostname'])['hostname_entropy'].mean().mean()"
   ]
  }
 ],
 "metadata": {
  "kernelspec": {
   "display_name": "Python 3",
   "language": "python",
   "name": "python3"
  },
  "language_info": {
   "codemirror_mode": {
    "name": "ipython",
    "version": 3
   },
   "file_extension": ".py",
   "mimetype": "text/x-python",
   "name": "python",
   "nbconvert_exporter": "python",
   "pygments_lexer": "ipython3",
   "version": "3.7.0"
  }
 },
 "nbformat": 4,
 "nbformat_minor": 2
}
