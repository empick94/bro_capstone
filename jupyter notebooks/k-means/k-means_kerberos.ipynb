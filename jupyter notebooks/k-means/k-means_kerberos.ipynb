{
 "cells": [
  {
   "cell_type": "markdown",
   "metadata": {},
   "source": [
    "This notebook has been modified to remove sensitive data. It excludes the original dataset, the output of each cell, and some feature engineering based off of domain knowledge. The inputs are still included for the purpose of understanding our machine learning process."
   ]
  },
  {
   "cell_type": "code",
   "execution_count": null,
   "metadata": {},
   "outputs": [],
   "source": [
    "import pandas as pd\n",
    "from scipy import stats\n",
    "from sklearn.cluster import KMeans\n",
    "import matplotlib.pyplot as plt\n",
    "from mpl_toolkits.mplot3d import Axes3D"
   ]
  },
  {
   "cell_type": "markdown",
   "metadata": {},
   "source": [
    "Read in data set and convert fields to their appropriate data types"
   ]
  },
  {
   "cell_type": "code",
   "execution_count": null,
   "metadata": {},
   "outputs": [],
   "source": [
    "df = pd.read_json(r\"C:\\Users\\hanbrolo\\Documents\\2.05-Kerberos.json\")"
   ]
  },
  {
   "cell_type": "code",
   "execution_count": null,
   "metadata": {},
   "outputs": [],
   "source": [
    "df.renewable = df.renewable.astype(bool)"
   ]
  },
  {
   "cell_type": "code",
   "execution_count": null,
   "metadata": {},
   "outputs": [],
   "source": [
    "df['id.resp_p'] = df['id.resp_p'].astype(str)"
   ]
  },
  {
   "cell_type": "code",
   "execution_count": null,
   "metadata": {},
   "outputs": [],
   "source": [
    "df['@timestamp'] = pd.to_datetime(df['@timestamp'])"
   ]
  },
  {
   "cell_type": "code",
   "execution_count": null,
   "metadata": {},
   "outputs": [],
   "source": [
    "df.dtypes"
   ]
  },
  {
   "cell_type": "markdown",
   "metadata": {},
   "source": [
    "Create a new dataset that aggregates by the origin host. This gives statistics about how many unique response hosts it tried to connect to, the number of total connections, and what the most common host it tried to connect to was. All of this may be interesting for clustering."
   ]
  },
  {
   "cell_type": "code",
   "execution_count": null,
   "metadata": {},
   "outputs": [],
   "source": [
    "df_unique_connections = df.groupby(['id.orig_h'])['id.resp_h'].describe().sort_values(['unique'])"
   ]
  },
  {
   "cell_type": "markdown",
   "metadata": {},
   "source": [
    "select the features we want to cluster by."
   ]
  },
  {
   "cell_type": "code",
   "execution_count": null,
   "metadata": {},
   "outputs": [],
   "source": [
    "cols = ['unique','count']"
   ]
  },
  {
   "cell_type": "code",
   "execution_count": null,
   "metadata": {},
   "outputs": [],
   "source": [
    "df_unique_connections['unique'] = pd.to_numeric(df_unique_connections['unique'])\n",
    "df_unique_connections['count'] = pd.to_numeric(df_unique_connections['count'])"
   ]
  },
  {
   "cell_type": "markdown",
   "metadata": {},
   "source": [
    "Normalize"
   ]
  },
  {
   "cell_type": "code",
   "execution_count": null,
   "metadata": {},
   "outputs": [],
   "source": [
    "df_tr_std = stats.zscore(df_unique_connections[cols])"
   ]
  },
  {
   "cell_type": "markdown",
   "metadata": {},
   "source": [
    "Train the kmeans model with 6 clusters (we tried various numbers and settled on this). Assign each row to a cluster. Describe cluster statistics to learn what kind of traffic they represent."
   ]
  },
  {
   "cell_type": "code",
   "execution_count": null,
   "metadata": {},
   "outputs": [],
   "source": [
    "kmeans = KMeans(n_clusters=6, random_state=0).fit(df_tr_std)\n",
    "labels = kmeans.labels_\n",
    "df_unique_connections['clusters'] = labels\n",
    "cols.extend(['clusters'])\n",
    "df_unique_connections[cols].groupby(['clusters']).agg(['mean','count'])"
   ]
  },
  {
   "cell_type": "markdown",
   "metadata": {},
   "source": [
    "Visualize the clusters in a scatter plot to highlight which ones are anomalous."
   ]
  },
  {
   "cell_type": "code",
   "execution_count": null,
   "metadata": {},
   "outputs": [],
   "source": [
    "label_color_map = {\n",
    "    0:'b',\n",
    "    1:'g',\n",
    "    2:'r',\n",
    "    3:'c',\n",
    "    4:'m',\n",
    "    5:'y'\n",
    "}\n",
    "label_colors = [label_color_map[i] for i in df_unique_connections['clusters']]\n",
    "plt.scatter(df_unique_connections['unique'], df_unique_connections['count'], c=label_colors)"
   ]
  },
  {
   "cell_type": "markdown",
   "metadata": {},
   "source": [
    "\n",
    "Select an anomalous cluster (this one shows records with a very high number of auth attempts against a single host) and view the records in it for further analysis."
   ]
  },
  {
   "cell_type": "code",
   "execution_count": null,
   "metadata": {},
   "outputs": [],
   "source": [
    "df_unique_connections[df_unique_connections.clusters == 1]"
   ]
  },
  {
   "cell_type": "code",
   "execution_count": null,
   "metadata": {},
   "outputs": [],
   "source": [
    "df[df['id.orig_h'] == '10.25.25.2']"
   ]
  },
  {
   "cell_type": "markdown",
   "metadata": {},
   "source": [
    "<b>Failures only</b>\n",
    "\n",
    "This is another attempt to generate meaningful clusters, but this time we filtered to look at only auth attempts that failed. This type of analysis would be helpful for finding brute force attacks."
   ]
  },
  {
   "cell_type": "code",
   "execution_count": null,
   "metadata": {},
   "outputs": [],
   "source": [
    "df_failure_by_host = df[df.success == 'false'].groupby(['id.orig_h'])['id.resp_h'].describe().sort_values(['unique'])"
   ]
  },
  {
   "cell_type": "code",
   "execution_count": null,
   "metadata": {},
   "outputs": [],
   "source": [
    "df_failure_by_host"
   ]
  },
  {
   "cell_type": "markdown",
   "metadata": {},
   "source": [
    "Feature Selection"
   ]
  },
  {
   "cell_type": "code",
   "execution_count": null,
   "metadata": {},
   "outputs": [],
   "source": [
    "cols = ['unique','count', 'freq']"
   ]
  },
  {
   "cell_type": "markdown",
   "metadata": {},
   "source": [
    "Train model and assign clusters"
   ]
  },
  {
   "cell_type": "code",
   "execution_count": null,
   "metadata": {},
   "outputs": [],
   "source": [
    "df_failure_by_host['unique'] = pd.to_numeric(df_failure_by_host['unique'])\n",
    "df_failure_by_host['count'] = pd.to_numeric(df_failure_by_host['count'])\n",
    "df_failure_by_host['freq'] = pd.to_numeric(df_failure_by_host['freq'])\n",
    "df_tr_std = stats.zscore(df_failure_by_host[cols])\n",
    "kmeans = KMeans(n_clusters=6, random_state=0).fit(df_tr_std)\n",
    "labels = kmeans.labels_\n",
    "df_failure_by_host['clusters'] = labels\n",
    "cols.extend(['clusters'])\n",
    "df_failure_by_host[cols].groupby(['clusters']).agg(['median','count'])"
   ]
  },
  {
   "cell_type": "markdown",
   "metadata": {},
   "source": [
    "Visualize clusters"
   ]
  },
  {
   "cell_type": "code",
   "execution_count": null,
   "metadata": {},
   "outputs": [],
   "source": [
    "label_color_map = {\n",
    "    0:'b',\n",
    "    1:'g',\n",
    "    2:'r',\n",
    "    3:'c',\n",
    "    4:'m',\n",
    "    5:'y'\n",
    "}\n",
    "label_colors = [label_color_map[i] for i in df_failure_by_host['clusters']]\n",
    "plt.scatter(df_failure_by_host['unique'], df_failure_by_host['count'], c=label_colors)"
   ]
  },
  {
   "cell_type": "markdown",
   "metadata": {},
   "source": [
    "Explore some anomalous clusters"
   ]
  },
  {
   "cell_type": "code",
   "execution_count": null,
   "metadata": {},
   "outputs": [],
   "source": [
    "df_failure_by_host[df_failure_by_host['clusters']==1]"
   ]
  },
  {
   "cell_type": "code",
   "execution_count": null,
   "metadata": {},
   "outputs": [],
   "source": [
    "df_failure_by_host[df_failure_by_host['clusters']==5]"
   ]
  },
  {
   "cell_type": "markdown",
   "metadata": {},
   "source": [
    "<b>Another Attempt - Failures only with additional engineered feature</b>\n",
    "\n",
    "Here is one more iteration of the same process. This time we engineered one additional feature: the total number of other hosts that were trying to connect to the top connection for each host."
   ]
  },
  {
   "cell_type": "code",
   "execution_count": null,
   "metadata": {},
   "outputs": [],
   "source": [
    "#df_conn_count[df_conn_count['id.resp_h'] == 132.177.152.168]\n",
    "df_failure_by_host['top_host_connections'] = [df[df['id.resp_h'] == i].shape[0] for i in df_failure_by_host['top']]"
   ]
  },
  {
   "cell_type": "code",
   "execution_count": null,
   "metadata": {},
   "outputs": [],
   "source": [
    "df_failure_by_host"
   ]
  },
  {
   "cell_type": "markdown",
   "metadata": {},
   "source": [
    "Feature selection, model training, assigning clusters, visualizing clusters."
   ]
  },
  {
   "cell_type": "code",
   "execution_count": null,
   "metadata": {},
   "outputs": [],
   "source": [
    "cols = ['unique','count']"
   ]
  },
  {
   "cell_type": "code",
   "execution_count": null,
   "metadata": {},
   "outputs": [],
   "source": [
    "df_tr_std = stats.zscore(df_unique_connections[cols])\n",
    "kmeans = KMeans(n_clusters=6, random_state=0).fit(df_tr_std)\n",
    "labels = kmeans.labels_\n",
    "df_unique_connections['clusters'] = labels\n",
    "cols.extend(['clusters'])\n",
    "df_unique_connections[cols].groupby(['clusters']).agg(['mean','count'])"
   ]
  },
  {
   "cell_type": "code",
   "execution_count": null,
   "metadata": {},
   "outputs": [],
   "source": [
    "label_color_map = {\n",
    "    0:'b',\n",
    "    1:'g',\n",
    "    2:'r',\n",
    "    3:'c',\n",
    "    4:'m',\n",
    "    5:'y'\n",
    "}\n",
    "label_colors = [label_color_map[i] for i in df_failure_by_host['clusters']]"
   ]
  },
  {
   "cell_type": "code",
   "execution_count": null,
   "metadata": {},
   "outputs": [],
   "source": [
    "fig = plt.figure()"
   ]
  },
  {
   "cell_type": "markdown",
   "metadata": {},
   "source": [
    "Attempted one more type of aggregation (by session) but found that each connection is a unique session for this protocol."
   ]
  },
  {
   "cell_type": "code",
   "execution_count": null,
   "metadata": {},
   "outputs": [],
   "source": [
    "df.groupby(['@id'])['ts'].count()"
   ]
  }
 ],
 "metadata": {
  "kernelspec": {
   "display_name": "Python 3",
   "language": "python",
   "name": "python3"
  },
  "language_info": {
   "codemirror_mode": {
    "name": "ipython",
    "version": 3
   },
   "file_extension": ".py",
   "mimetype": "text/x-python",
   "name": "python",
   "nbconvert_exporter": "python",
   "pygments_lexer": "ipython3",
   "version": "3.7.0"
  }
 },
 "nbformat": 4,
 "nbformat_minor": 2
}
